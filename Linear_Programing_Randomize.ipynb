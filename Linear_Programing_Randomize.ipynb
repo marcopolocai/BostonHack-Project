{
 "cells": [
  {
   "cell_type": "markdown",
   "metadata": {},
   "source": [
    "### This file contains Linear programing randomize alg. and relaed test results."
   ]
  },
  {
   "cell_type": "markdown",
   "metadata": {},
   "source": [
    "_________"
   ]
  },
  {
   "cell_type": "markdown",
   "metadata": {},
   "source": [
    "### Contents\n",
    "*  I. read from outfile the ramdomly generated test data \n",
    "* II. Helper functions\n",
    "* III. Main function\n",
    "* IV. Test & plots\n",
    "* V. Greedy cover alg."
   ]
  },
  {
   "cell_type": "code",
   "execution_count": 10,
   "metadata": {
    "collapsed": true
   },
   "outputs": [],
   "source": [
    "import pandas as pd\n",
    "import numpy as np\n",
    "import os \n",
    "from collections import Counter\n",
    "import matplotlib.pyplot as plt\n",
    "import pickle\n",
    "import time\n",
    "from pulp import *\n",
    "import random as rd\n",
    "import math\n",
    "import random as rd"
   ]
  },
  {
   "cell_type": "markdown",
   "metadata": {},
   "source": [
    "##  I. read from outfile the ramdomly generated test data (100 tasks, 400 people)"
   ]
  },
  {
   "cell_type": "code",
   "execution_count": 3,
   "metadata": {
    "collapsed": true
   },
   "outputs": [],
   "source": [
    "with open ('outfile', 'rb') as fp:\n",
    "    itemlist = pickle.load(fp)\n",
    "task = itemlist[0]\n",
    "people = itemlist[1]"
   ]
  },
  {
   "cell_type": "markdown",
   "metadata": {},
   "source": [
    "## II. Helper functions \n",
    "* constraints are ramdomly generated, with alpha being the percentage of constraints-involved tasks"
   ]
  },
  {
   "cell_type": "code",
   "execution_count": 474,
   "metadata": {
    "collapsed": true
   },
   "outputs": [],
   "source": [
    "# cross products\n",
    "def cross(a,b):\n",
    "    p = 0\n",
    "    for (x,y) in zip(a,b):\n",
    "        p+=(x*y)\n",
    "    return p\n",
    "\n",
    "# fomalize outputs\n",
    "def output(arr):\n",
    "    new = np.zeros((len(arr),len(arr[0])))\n",
    "    for i in range(len(new)):\n",
    "        for j in range(len(new[0])):\n",
    "            new[i][j] = value(arr[i][j])\n",
    "    return new\n",
    "\n",
    "# print constraints\n",
    "def printCons(prob):\n",
    "    for a in prob.constraints.values():\n",
    "        print(a)\n",
    "\n",
    "# add additional constrain to lp problem: \n",
    "# person p can be only assigned to team j\n",
    "def prerequsite(p,j,prob,X): \n",
    "    prob += X[p][j] == 1\n",
    "    prob += sum(X[p]) == 1\n",
    "\n",
    "# create superset of constrants for later use; return[[p1,p2...],task_index] pairs\n",
    "def generate_constraints(J,P,alpha):\n",
    "    pairs = []\n",
    "    chosen_to_be_fixed = []\n",
    "    for i in np.random.choice(len(J),round(len(J)*alpha),replace=False):\n",
    "        temp = [] \n",
    "        pre_size = np.random.choice(3) + 2 # decide the size of the already fixed group\n",
    "        for j in range(pre_size): # find people fill in \n",
    "            for k in range(len(P)):\n",
    "                if (k not in chosen_to_be_fixed) and \\\n",
    "                (sum([(x+y) == 2 for (x,y) in zip(P[k],J[i])])>0): # have to have some overlap\n",
    "                    chosen_to_be_fixed.append(k)\n",
    "                    temp.append(k)\n",
    "                    break\n",
    "        pairs.append([temp,i])\n",
    "    return pairs\n",
    "\n",
    "# seclect a percentage of constraints from the superset; return[p,team_index] pairs\n",
    "def choose_constraints(J,P,alpha,cons):\n",
    "    pairs = []\n",
    "    chosen = []\n",
    "    for i in range(round(len(J)*alpha)):\n",
    "#         print(cons[i])\n",
    "        task_index = cons[i][1]\n",
    "        for member in cons[i][0]:\n",
    "            chosen.append(member)\n",
    "            pairs.append([member,task_index])\n",
    "    return pairs"
   ]
  },
  {
   "cell_type": "markdown",
   "metadata": {},
   "source": [
    "## III. Main function "
   ]
  },
  {
   "cell_type": "code",
   "execution_count": 498,
   "metadata": {
    "collapsed": false
   },
   "outputs": [],
   "source": [
    "def LPRD(J,P,R,pairs):\n",
    "    \"\"\"\n",
    "    minimize personal loads with must-link constraints.\n",
    "\n",
    "    Args:\n",
    "        J: An array with shape (n_tasks,n_features) containing info about tasks\n",
    "        P: An array with shape (n_people,n_features) containing info about people\n",
    "        pairs: A array with shape (n_pairs,2) containing info of the constraints, ex.[[person_index,task_index],...] \n",
    "        R: Number of iterations in the randomize part\n",
    "        \n",
    "    Returns:\n",
    "        A binary matrix X with shape (n_people, n_tasks), indicating the assignments.\n",
    "        \n",
    "    Raises:\n",
    "\n",
    "    \"\"\"\n",
    "    X = [[0 for x in range(len(J))] for y in range(len(P))]  # assignment matrix\n",
    "    ##_____________________________________________-\n",
    "    # declare your variables\n",
    "    L = LpVariable(\"L\", 0, 1000)\n",
    "    namestr = 0 \n",
    "    for i in range(len(X)):\n",
    "        for j in range(len(X[1])):\n",
    "            X[i][j] = LpVariable('x'+ str(namestr), 0, 1) # 0=<x<=1\n",
    "            namestr += 1\n",
    "\n",
    "    # defines the problem\n",
    "    prob = LpProblem(\"problem\", LpMinimize)\n",
    "    # defines the objective function to minimize\n",
    "    prob += L\n",
    "    \n",
    "    \n",
    "    ##_____________________________________________-\n",
    "    ## additional constraints!!!!\n",
    "\n",
    "    chosen = [x[0] for x in pairs]\n",
    "    for pair in pairs:\n",
    "#         print(pair)\n",
    "        prerequsite(pair[0],pair[1],prob,X)\n",
    "    \n",
    "    print(\"# constraints:\", len(pairs))\n",
    "    \n",
    "    # find able-cover\n",
    "    able_cover = [0]*len(P[0])\n",
    "    for i in range(len(P)):\n",
    "        able_cover = [x or y for (x,y) in zip(P[i],able_cover)]\n",
    "    print(\"able to cover:\",sum(able_cover))\n",
    "    able_cover = [0]*len(P[0])\n",
    "    for i in range(len(P)):\n",
    "        if i not in chosen:\n",
    "            able_cover = [x or y for (x,y) in zip(P[i],able_cover)]    \n",
    "    print(\"able to cover without pre-fixed cover:\",sum(able_cover))\n",
    "    \n",
    "    # find needed-cover\n",
    "    Jtemp = J[:]\n",
    "    needed_cover = [0]*len(P[0])\n",
    "    for i in range(len(Jtemp)):\n",
    "        needed_cover = [x or y for (x,y) in zip(Jtemp[i], needed_cover)]\n",
    "    print(\"need cover:\",sum(needed_cover),len(needed_cover))\n",
    "    \n",
    "    for pair in pairs:\n",
    "        Jtemp[pair[1]]  = [max(x-y,0) for (x,y) in zip(Jtemp[pair[1]], P[pair[0]])]    \n",
    "\n",
    "    needed_cover = [0]*len(P[0])\n",
    "    for i in range(len(Jtemp)):\n",
    "        needed_cover = [x or y for (x,y) in zip(Jtemp[i], needed_cover)]\n",
    "    print(\"need cover besides pre-fixed cover:\",sum(needed_cover),len(needed_cover))\n",
    "    \n",
    "    needed_delete = [x>y for (x,y) in zip(needed_cover,able_cover)]\n",
    "    print(\"cannot cover after constraint:\", sum(needed_delete))\n",
    "    needed_delete_mutiplicity = \\\n",
    "            [sum([1 for x in J if x[i]==1]) for i in range(len(needed_delete)) if needed_delete[i]==True]\n",
    "    print(\"cannot cover(multiplicity) after constraint:\", sum(needed_delete_mutiplicity))\n",
    "\n",
    "    ##______________________________________________\n",
    "    # defines the regular constraints\n",
    "\n",
    "    for i in range(len(X)):  # all people's loads subject to a uppper bound \n",
    "        prob += sum(X[i])<=L\n",
    "\n",
    "    for i in range(len(J)): # all skills in all tasks must be covered \n",
    "        for j in range(len(J[0])):\n",
    "            if needed_delete[j] == 0:\n",
    "                prob += cross([a[i] for a in X],[a[j] for a in P]) >= J[i][j]    \n",
    "    ##_____________________________________________\n",
    "    # solve the problem\n",
    "    status = prob.solve(GLPK(msg=0))\n",
    "    print(LpStatus[status])\n",
    "    \n",
    "    ##_____________________________________________-\n",
    "    # print output \n",
    "    print(\"L:\",value(L))\n",
    "\n",
    "    ##_____________________________________________-\n",
    "    #randomize process\n",
    "    X = output(X)\n",
    "    for i in range(len(X)):\n",
    "        for j in range(len(X[0])):\n",
    "            for k in range(R):\n",
    "                if rd.uniform(0,1)<X[i][j]: # if at least one time it's chosen\n",
    "                    X[i][j] = 1 \n",
    "                    break\n",
    "                if k == R-1: \n",
    "                    X[i][j] = 0 # if not chosen in any round\n",
    "\n",
    "    print(\"L:\", max([sum(a) for a in X]))\n",
    "#     print(\"X:\", X)\n",
    "    return [value(L),max([sum(a) for a in X]),sum(needed_delete),sum(needed_delete_mutiplicity)]"
   ]
  },
  {
   "cell_type": "markdown",
   "metadata": {},
   "source": [
    "## IV. Test "
   ]
  },
  {
   "cell_type": "code",
   "execution_count": 477,
   "metadata": {
    "collapsed": false
   },
   "outputs": [
    {
     "name": "stdout",
     "output_type": "stream",
     "text": [
      "100\n"
     ]
    }
   ],
   "source": [
    "# generate a superset of constraint, with 30 tasks as input\n",
    "all_cons = generate_constraints(task[:30],people,1)\n",
    "print(len(all_cons))"
   ]
  },
  {
   "cell_type": "code",
   "execution_count": null,
   "metadata": {
    "collapsed": false
   },
   "outputs": [],
   "source": [
    "# simple test\n",
    "t0 = time.time()\n",
    "constraints = choose_constraints(task[:30],people,0.9,all_cons)\n",
    "sol = LPRD(task[:30],people,10,constraints)\n",
    "print(time.time()-t0)"
   ]
  },
  {
   "cell_type": "code",
   "execution_count": 559,
   "metadata": {
    "collapsed": false
   },
   "outputs": [],
   "source": [
    "# generate a superset of constraint\n",
    "all_cons = generate_constraints(task[:],people,1)\n",
    "print(len(all_cons))\n",
    "# save constraints\n",
    "with open('all_cons', 'wb') as fp:\n",
    "    pickle.dump(all_cons, fp)"
   ]
  },
  {
   "cell_type": "code",
   "execution_count": 482,
   "metadata": {
    "collapsed": false
   },
   "outputs": [
    {
     "name": "stdout",
     "output_type": "stream",
     "text": [
      "# constraints: 0\n",
      "able to cover: 225\n",
      "able to cover without pre-fixed cover: 225\n",
      "need cover: 109 329\n",
      "need cover besides pre-fixed cover: 109 329\n",
      "cannot cover after constraint 0\n",
      "cannot cover(multiplicity) after constraint 0\n",
      "Optimal\n",
      "L: 4.0\n",
      "L: 4.0\n",
      "255.85549402236938\n",
      "# constraints: 27\n",
      "able to cover: 225\n",
      "able to cover without pre-fixed cover: 220\n",
      "need cover: 109 329\n",
      "need cover besides pre-fixed cover: 109 329\n",
      "cannot cover after constraint 1\n",
      "cannot cover(multiplicity) after constraint 1\n",
      "Optimal\n",
      "L: 4.0\n",
      "L: 4.0\n",
      "253.5968849658966\n",
      "# constraints: 54\n",
      "able to cover: 225\n",
      "able to cover without pre-fixed cover: 215\n",
      "need cover: 109 329\n",
      "need cover besides pre-fixed cover: 106 329\n",
      "cannot cover after constraint 3\n",
      "cannot cover(multiplicity) after constraint 5\n",
      "Optimal\n",
      "L: 4.0\n",
      "L: 4.0\n",
      "244.39181399345398\n",
      "# constraints: 84\n",
      "able to cover: 225\n",
      "able to cover without pre-fixed cover: 209\n",
      "need cover: 109 329\n",
      "need cover besides pre-fixed cover: 106 329\n",
      "cannot cover after constraint 4\n",
      "cannot cover(multiplicity) after constraint 6\n",
      "Optimal\n",
      "L: 4.0\n",
      "L: 4.0\n",
      "245.1851930618286\n",
      "# constraints: 113\n",
      "able to cover: 225\n",
      "able to cover without pre-fixed cover: 202\n",
      "need cover: 109 329\n",
      "need cover besides pre-fixed cover: 106 329\n",
      "cannot cover after constraint 6\n",
      "cannot cover(multiplicity) after constraint 8\n",
      "Optimal\n",
      "L: 8.0\n",
      "L: 8.0\n",
      "244.6057951450348\n",
      "# constraints: 146\n",
      "able to cover: 225\n",
      "able to cover without pre-fixed cover: 194\n",
      "need cover: 109 329\n",
      "need cover besides pre-fixed cover: 104 329\n",
      "cannot cover after constraint 7\n",
      "cannot cover(multiplicity) after constraint 9\n",
      "Optimal\n",
      "L: 8.0\n",
      "L: 8.0\n",
      "250.0923581123352\n",
      "# constraints: 175\n",
      "able to cover: 225\n",
      "able to cover without pre-fixed cover: 186\n",
      "need cover: 109 329\n",
      "need cover besides pre-fixed cover: 100 329\n",
      "cannot cover after constraint 12\n",
      "cannot cover(multiplicity) after constraint 19\n",
      "Optimal\n",
      "L: 8.0\n",
      "L: 8.0\n",
      "241.67423510551453\n",
      "# constraints: 201\n",
      "able to cover: 225\n",
      "able to cover without pre-fixed cover: 175\n",
      "need cover: 109 329\n",
      "need cover besides pre-fixed cover: 97 329\n",
      "cannot cover after constraint 16\n",
      "cannot cover(multiplicity) after constraint 24\n",
      "Optimal\n",
      "L: 9.0\n",
      "L: 9.0\n",
      "236.63631391525269\n",
      "# constraints: 231\n",
      "able to cover: 225\n",
      "able to cover without pre-fixed cover: 163\n",
      "need cover: 109 329\n",
      "need cover besides pre-fixed cover: 91 329\n",
      "cannot cover after constraint 21\n",
      "cannot cover(multiplicity) after constraint 33\n",
      "Optimal\n",
      "L: 9.0\n",
      "L: 9.0\n",
      "236.0997130870819\n",
      "# constraints: 262\n",
      "able to cover: 225\n",
      "able to cover without pre-fixed cover: 151\n",
      "need cover: 109 329\n",
      "need cover besides pre-fixed cover: 91 329\n",
      "cannot cover after constraint 29\n",
      "cannot cover(multiplicity) after constraint 63\n",
      "Optimal\n",
      "L: 4.0\n",
      "L: 5.0\n",
      "226.360533952713\n"
     ]
    }
   ],
   "source": [
    "# test change alpha:\n",
    "temp = []\n",
    "for i in range(10):\n",
    "    t0 = time.time()\n",
    "    constraints = choose_constraints(task[:],people,i/10,all_cons)\n",
    "    sol = LPRD(task[:],people[:],10,constraints)\n",
    "    print(time.time()-t0)\n",
    "    temp.append(sol)"
   ]
  },
  {
   "cell_type": "code",
   "execution_count": 519,
   "metadata": {
    "collapsed": false
   },
   "outputs": [],
   "source": [
    "# save LPRD output\n",
    "with open('LRPD', 'wb') as fp:\n",
    "    pickle.dump(temp, fp)"
   ]
  },
  {
   "cell_type": "code",
   "execution_count": 568,
   "metadata": {
    "collapsed": false
   },
   "outputs": [
    {
     "data": {
      "image/png": "[encoded data removed]",
      "text/plain": [
       "<matplotlib.figure.Figure at 0x1120e6588>"
      ]
     },
     "metadata": {},
     "output_type": "display_data"
    }
   ],
   "source": [
    "# plot results\n",
    "plt.figure(figsize=(15,5))\n",
    "plt.subplot(1,2,1)\n",
    "plt.plot([x/10 for x in range(10)], [x[0] for x in temp] )\n",
    "plt.plot([x/10+0.01 for x in range(10)], [x[1]+0.05 for x in temp])\n",
    "plt.plot([x/10+0.02 for x in range(10)], [x[0]+0.05 for x in greedy_results] )\n",
    "\n",
    "plt.ylabel('loads')\n",
    "plt.xlabel('percentage of tasks that subject to some constraint')\n",
    "plt.grid()\n",
    "\n",
    "plt.subplot(1,2,2)\n",
    "plt.plot([x/10 for x in range(10)], [x[3] for x in temp] )\n",
    "# plt.plot([x/10 for x in range(10)], [x[2] for x in temp] )\n",
    "plt.plot([x/10 for x in range(10)], [x[1] for x in greedy_results],c='green' )\n",
    "\n",
    "plt.ylabel('# of skills deleted from all tasks (cannot be covered)')\n",
    "plt.xlabel('percentage of tasks that subject to some constraint')\n",
    "plt.grid()\n",
    "plt.show()"
   ]
  },
  {
   "cell_type": "markdown",
   "metadata": {},
   "source": [
    "_______________"
   ]
  },
  {
   "cell_type": "markdown",
   "metadata": {},
   "source": [
    "## V. Greedy Cover"
   ]
  },
  {
   "cell_type": "code",
   "execution_count": 555,
   "metadata": {
    "collapsed": false
   },
   "outputs": [],
   "source": [
    "# greedy cover for tasks one by one\n",
    "def greedy_cover(J,P,pairs): \n",
    "    tasks, free = initiate(J,P,pairs)\n",
    "    cover = [0]*len(P)\n",
    "    cannot_cover = 0\n",
    "    assignment = []\n",
    "    for i in range(len(tasks)):\n",
    "        task = tasks[i]\n",
    "        team = []\n",
    "        while sum(task)>0: \n",
    "            temp = 0\n",
    "            best = 0\n",
    "            for k in range(len(P)):\n",
    "                if free[k] and k not in team:\n",
    "                    able_cover = sum([x+y ==2 for (x,y) in zip(P[k],task)])\n",
    "                    if able_cover > temp:\n",
    "                        temp = able_cover\n",
    "                        best = k\n",
    "            if temp == 0: \n",
    "                cannot_cover += sum(task)\n",
    "                assignment.append(team)\n",
    "                break\n",
    "#             print(team,temp,best,sum(task))\n",
    "            cover[best] += 1\n",
    "            team.append(best)\n",
    "            task = [max(0,y-x) for (x,y) in zip(P[best],task)]\n",
    "        assignment.append(team)\n",
    "    return max(cover),cannot_cover,assignment\n",
    "\n",
    "# pre-process tasks & people\n",
    "def initiate(J,P,pairs):\n",
    "    tasks = J[:]\n",
    "    free = [True] * len(P)\n",
    "    for [x,y] in pairs:\n",
    "#         print(x,y)\n",
    "        tasks[y] = [max(a-b,0) for (a,b) in zip(tasks[y],P[x])]\n",
    "        free[x] = False\n",
    "    return tasks,free\n"
   ]
  },
  {
   "cell_type": "code",
   "execution_count": 556,
   "metadata": {
    "collapsed": false
   },
   "outputs": [
    {
     "name": "stdout",
     "output_type": "stream",
     "text": [
      "2.9945781230926514\n",
      "2.750607967376709\n",
      "2.4696898460388184\n",
      "2.2583701610565186\n",
      "2.0872280597686768\n",
      "1.8298351764678955\n",
      "1.6376171112060547\n",
      "1.4072449207305908\n",
      "1.2246079444885254\n",
      "0.9304728507995605\n"
     ]
    }
   ],
   "source": [
    "# test\n",
    "greedy_results = []\n",
    "for i in range(10):\n",
    "    t0 = time.time()\n",
    "    constraints = choose_constraints(task[:],people,i/10,all_cons)\n",
    "    a,b,c = greedy_cover(task[:],people[:],constraints)\n",
    "    print(time.time()-t0)\n",
    "    greedy_results.append([a,b,c])"
   ]
  },
  {
   "cell_type": "markdown",
   "metadata": {},
   "source": [
    "_________________"
   ]
  }
 ],
 "metadata": {
  "kernelspec": {
   "display_name": "Python [default]",
   "language": "python",
   "name": "python3"
  },
  "language_info": {
   "codemirror_mode": {
    "name": "ipython",
    "version": 3
   },
   "file_extension": ".py",
   "mimetype": "text/x-python",
   "name": "python",
   "nbconvert_exporter": "python",
   "pygments_lexer": "ipython3",
   "version": "3.5.2"
  }
 },
 "nbformat": 4,
 "nbformat_minor": 2
}
