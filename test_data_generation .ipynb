{
 "cells": [
  {
   "cell_type": "markdown",
   "metadata": {},
   "source": [
    "### This file is for generating test data.\n",
    "* It is done by sampling from the 'projectSkills.txt'(tasks) and 'profiles.txt'(people).\n",
    "* The two files are included in folder \"/data\" \n",
    "* It output a file containing the generated data as lists (package \"pickle\" is used) "
   ]
  },
  {
   "cell_type": "markdown",
   "metadata": {},
   "source": [
    "### Contents\n",
    "* Part I & II are some inspectation on the two files\n",
    "* Part III & IV are for cleaning the data\n",
    "* Part V turns both in matrix forms\n",
    "* Part VI samples 100 tasks and 400 people from the two sets, ensuring a valid cover can be made."
   ]
  },
  {
   "cell_type": "markdown",
   "metadata": {},
   "source": [
    "__________________________"
   ]
  },
  {
   "cell_type": "code",
   "execution_count": null,
   "metadata": {
    "collapsed": true
   },
   "outputs": [],
   "source": [
    "import pandas as pd\n",
    "import numpy as np\n",
    "import os \n",
    "from collections import Counter\n",
    "import matplotlib.pyplot as plt\n",
    "import pickle"
   ]
  },
  {
   "cell_type": "markdown",
   "metadata": {},
   "source": [
    "## I. tasks "
   ]
  },
  {
   "cell_type": "code",
   "execution_count": 2,
   "metadata": {
    "collapsed": false
   },
   "outputs": [],
   "source": [
    "def tasks_to_df(filename):\n",
    "    temp = [] \n",
    "    universe = []\n",
    "    with open(filename,'r') as file:\n",
    "        for line in file:\n",
    "            line = line.lower()\n",
    "            s = line.split('\\t')[1:-1]\n",
    "            temp += [[s, len(s)]]\n",
    "            universe += s\n",
    "    return pd.DataFrame.from_records(temp),(universe)"
   ]
  },
  {
   "cell_type": "code",
   "execution_count": 3,
   "metadata": {
    "collapsed": false
   },
   "outputs": [],
   "source": [
    "tasks,skills = tasks_to_df('data/projectSkills.txt')"
   ]
  },
  {
   "cell_type": "code",
   "execution_count": 4,
   "metadata": {
    "collapsed": false
   },
   "outputs": [
    {
     "name": "stdout",
     "output_type": "stream",
     "text": [
      "337\n"
     ]
    },
    {
     "data": {
      "text/plain": [
       "[('excel', 33),\n",
       " ('iphone', 35),\n",
       " ('logo design', 37),\n",
       " ('css', 39),\n",
       " ('sales', 40),\n",
       " ('seo', 41),\n",
       " ('articles', 43),\n",
       " ('javascript', 47),\n",
       " ('data entry', 50),\n",
       " ('wordpress', 50),\n",
       " ('marketing', 52),\n",
       " ('android', 52),\n",
       " ('mobile phone', 61),\n",
       " ('mysql', 71),\n",
       " ('software architecture', 71),\n",
       " ('internet marketing', 81),\n",
       " ('html', 165),\n",
       " ('website design', 197),\n",
       " ('graphic design', 197),\n",
       " ('php', 245)]"
      ]
     },
     "execution_count": 4,
     "metadata": {},
     "output_type": "execute_result"
    }
   ],
   "source": [
    "print(len(set(skills)))\n",
    "sorted(dict(Counter(skills)).items(), key=lambda x:x[1])[-20:]"
   ]
  },
  {
   "cell_type": "code",
   "execution_count": 10,
   "metadata": {
    "collapsed": false
   },
   "outputs": [
    {
     "name": "stdout",
     "output_type": "stream",
     "text": [
      "260\n",
      "71\n",
      "77\n",
      "                 1\n",
      "count  1061.000000\n",
      "mean      3.056550\n",
      "std       1.497358\n",
      "min       1.000000\n",
      "25%       2.000000\n",
      "50%       3.000000\n",
      "75%       5.000000\n",
      "max       6.000000\n"
     ]
    },
    {
     "data": {
      "image/png": "[encoded data removed]",
      "text/plain": [
       "<matplotlib.figure.Figure at 0x10fb50e10>"
      ]
     },
     "metadata": {},
     "output_type": "display_data"
    }
   ],
   "source": [
    "print (len(set(pskills) & set(skills)))\n",
    "print (len(set(pskills) - set(skills)))\n",
    "print (len(set(skills) - set(pskills)))\n",
    "print(tasks.describe())\n",
    "x = tasks[1]\n",
    "plt.xlabel('# of skills required')\n",
    "plt.ylabel('# of tasks')\n",
    "plt.title('Distribution of tasks who needs distinct # of skills ')\n",
    "plt.grid(True)\n",
    "bin = plt.hist(x,align='left',linewidth=1,edgecolor='black')\n",
    "plt.show()\n"
   ]
  },
  {
   "cell_type": "code",
   "execution_count": 90,
   "metadata": {
    "collapsed": false
   },
   "outputs": [
    {
     "data": {
      "text/plain": [
       "6"
      ]
     },
     "execution_count": 90,
     "metadata": {},
     "output_type": "execute_result"
    }
   ],
   "source": [
    "tasks[1].max()"
   ]
  },
  {
   "cell_type": "code",
   "execution_count": 201,
   "metadata": {
    "collapsed": false
   },
   "outputs": [],
   "source": [
    "# def gtasks_to_df(filename):\n",
    "#     temp = [] \n",
    "#     universe = []\n",
    "#     with open(filename,'r') as file:\n",
    "#         for line in file:\n",
    "#             line = line.lower()\n",
    "#             s = line.split('\\t')[1][:-1].split(',')\n",
    "#             temp += [[s, len(s)]]\n",
    "#             universe += s\n",
    "#     return pd.DataFrame.from_records(temp),(universe)\n",
    "\n",
    "# gtasks, gskills = gtasks_to_df('data/guruProjectsInfo.txt')\n",
    "# print(len(set(gskills)))\n",
    "# sorted(dict(Counter(gskills)).items(), key=lambda x:x[1])[-10:]\n",
    "# print (len(set(gskills) & set(pskills)))\n",
    "# print (len(set(gskills) - set(pskills)))\n",
    "# print (len(set(pskills) - set(gskills)))\n",
    "# gtasks.describe()"
   ]
  },
  {
   "cell_type": "markdown",
   "metadata": {},
   "source": [
    "## II. People"
   ]
  },
  {
   "cell_type": "code",
   "execution_count": 6,
   "metadata": {
    "collapsed": true
   },
   "outputs": [],
   "source": [
    "def people_to_df(filename):\n",
    "    temp = [] \n",
    "    universe = []\n",
    "    with open(filename,'r') as file:\n",
    "        for line in file:\n",
    "            line = line.lower()\n",
    "            s = line.split('\\t')[4:]\n",
    "            s = [s[i] for i in range(len(s)) if i % 2 == 0]\n",
    "            temp += [[s, len(s)]]\n",
    "            universe += s\n",
    "    return pd.DataFrame.from_records(temp),(universe)"
   ]
  },
  {
   "cell_type": "code",
   "execution_count": 7,
   "metadata": {
    "collapsed": false
   },
   "outputs": [],
   "source": [
    "people, pskills = people_to_df('data/profiles.txt')"
   ]
  },
  {
   "cell_type": "code",
   "execution_count": 8,
   "metadata": {
    "collapsed": false
   },
   "outputs": [
    {
     "name": "stdout",
     "output_type": "stream",
     "text": [
      "331\n"
     ]
    },
    {
     "ename": "NameError",
     "evalue": "name 'groupby' is not defined",
     "output_type": "error",
     "traceback": [
      "\u001b[0;31m---------------------------------------------------------------------------\u001b[0m",
      "\u001b[0;31mNameError\u001b[0m                                 Traceback (most recent call last)",
      "\u001b[0;32m<ipython-input-8-9a09e60dbdc6>\u001b[0m in \u001b[0;36m<module>\u001b[0;34m()\u001b[0m\n\u001b[1;32m      1\u001b[0m \u001b[0mprint\u001b[0m\u001b[0;34m(\u001b[0m\u001b[0mlen\u001b[0m\u001b[0;34m(\u001b[0m\u001b[0mset\u001b[0m\u001b[0;34m(\u001b[0m\u001b[0mpskills\u001b[0m\u001b[0;34m)\u001b[0m\u001b[0;34m)\u001b[0m\u001b[0;34m)\u001b[0m\u001b[0;34m\u001b[0m\u001b[0m\n\u001b[0;32m----> 2\u001b[0;31m \u001b[0msorted\u001b[0m\u001b[0;34m(\u001b[0m\u001b[0;34m[\u001b[0m\u001b[0mlen\u001b[0m\u001b[0;34m(\u001b[0m\u001b[0mlist\u001b[0m\u001b[0;34m(\u001b[0m\u001b[0mgroup\u001b[0m\u001b[0;34m)\u001b[0m\u001b[0;34m)\u001b[0m \u001b[0;32mfor\u001b[0m \u001b[0mkey\u001b[0m\u001b[0;34m,\u001b[0m \u001b[0mgroup\u001b[0m \u001b[0;32min\u001b[0m \u001b[0mgroupby\u001b[0m\u001b[0;34m(\u001b[0m\u001b[0mpskills\u001b[0m\u001b[0;34m)\u001b[0m\u001b[0;34m]\u001b[0m\u001b[0;34m)\u001b[0m\u001b[0;34m[\u001b[0m\u001b[0;34m-\u001b[0m\u001b[0;36m20\u001b[0m\u001b[0;34m:\u001b[0m\u001b[0;34m]\u001b[0m\u001b[0;34m\u001b[0m\u001b[0m\n\u001b[0m",
      "\u001b[0;31mNameError\u001b[0m: name 'groupby' is not defined"
     ]
    }
   ],
   "source": [
    "print(len(set(pskills)))\n",
    "sorted([len(list(group)) for key, group in groupby(pskills)])[-20:]"
   ]
  },
  {
   "cell_type": "code",
   "execution_count": 9,
   "metadata": {
    "collapsed": false
   },
   "outputs": [
    {
     "name": "stdout",
     "output_type": "stream",
     "text": [
      "                 1\n",
      "count  1763.000000\n",
      "mean      4.626773\n",
      "std       1.805908\n",
      "min       1.000000\n",
      "25%       3.000000\n",
      "50%       6.000000\n",
      "75%       6.000000\n",
      "max       6.000000\n"
     ]
    },
    {
     "data": {
      "image/png": "[encoded data removed]",
      "text/plain": [
       "<matplotlib.figure.Figure at 0x10f8a6da0>"
      ]
     },
     "metadata": {},
     "output_type": "display_data"
    }
   ],
   "source": [
    "print(people.describe())\n",
    "x = people[1]\n",
    "plt.xlabel('# of skills owned')\n",
    "plt.ylabel('# of people')\n",
    "plt.title('Distribution of people who own distinct # of skills ')\n",
    "plt.grid(True)\n",
    "plt.hist(x,linewidth=1,align='left',edgecolor='black')\n",
    "plt.show()"
   ]
  },
  {
   "cell_type": "markdown",
   "metadata": {},
   "source": [
    "## III. Filter tasks"
   ]
  },
  {
   "cell_type": "code",
   "execution_count": 11,
   "metadata": {
    "collapsed": false
   },
   "outputs": [],
   "source": [
    "## delete those has skills that on one owns\n",
    "null_skills = (set(skills) - set(pskills))\n",
    "filtered_tasks = tasks[np.array([len(set(x) & null_skills)==0 for x in tasks[0]])]"
   ]
  },
  {
   "cell_type": "code",
   "execution_count": 12,
   "metadata": {
    "collapsed": false
   },
   "outputs": [],
   "source": [
    "## filter out those who need # skills >= 3\n",
    "filtered_tasks = filtered_tasks[filtered_tasks[1]>=3]"
   ]
  },
  {
   "cell_type": "code",
   "execution_count": 13,
   "metadata": {
    "collapsed": false
   },
   "outputs": [],
   "source": [
    "filtered_tasks.index = range(len(filtered_tasks))"
   ]
  },
  {
   "cell_type": "code",
   "execution_count": 14,
   "metadata": {
    "collapsed": false
   },
   "outputs": [
    {
     "data": {
      "text/plain": [
       "555"
      ]
     },
     "execution_count": 14,
     "metadata": {},
     "output_type": "execute_result"
    }
   ],
   "source": [
    "len(filtered_tasks)"
   ]
  },
  {
   "cell_type": "code",
   "execution_count": 94,
   "metadata": {
    "collapsed": false
   },
   "outputs": [
    {
     "data": {
      "text/plain": [
       "6"
      ]
     },
     "execution_count": 94,
     "metadata": {},
     "output_type": "execute_result"
    }
   ],
   "source": [
    "filtered_tasks[1].max()"
   ]
  },
  {
   "cell_type": "markdown",
   "metadata": {},
   "source": [
    "## IV. Filter people"
   ]
  },
  {
   "cell_type": "code",
   "execution_count": 15,
   "metadata": {
    "collapsed": false
   },
   "outputs": [],
   "source": [
    "## delete people whose skills are all irrelevent to the filtered_tasks\n",
    "filtered_tasks_skills = []\n",
    "for x in filtered_tasks[0]:\n",
    "    filtered_tasks_skills += x\n",
    "filtered_tasks_skills = set(filtered_tasks_skills)"
   ]
  },
  {
   "cell_type": "code",
   "execution_count": 16,
   "metadata": {
    "collapsed": false
   },
   "outputs": [],
   "source": [
    "filtered_people = people[np.array([len(set(x) & filtered_tasks_skills)>0 for x in people[0]])]"
   ]
  },
  {
   "cell_type": "code",
   "execution_count": 17,
   "metadata": {
    "collapsed": false
   },
   "outputs": [
    {
     "data": {
      "text/plain": [
       "1749"
      ]
     },
     "execution_count": 17,
     "metadata": {},
     "output_type": "execute_result"
    }
   ],
   "source": [
    "filtered_people.index = range(len(filtered_people))\n",
    "len(filtered_people)"
   ]
  },
  {
   "cell_type": "markdown",
   "metadata": {},
   "source": [
    "## V. Turn into matrix"
   ]
  },
  {
   "cell_type": "code",
   "execution_count": 18,
   "metadata": {
    "collapsed": false
   },
   "outputs": [
    {
     "data": {
      "image/png": "[encoded data removed]",
      "text/plain": [
       "<matplotlib.figure.Figure at 0x10fc22080>"
      ]
     },
     "metadata": {},
     "output_type": "display_data"
    }
   ],
   "source": [
    "# create a universial series of skills\n",
    "skills_series = []\n",
    "for x in filtered_people[0]:\n",
    "     skills_series += x\n",
    "plt.figure()\n",
    "plt.hist(sorted(dict(Counter(skills_series)).values()),bins =50)\n",
    "plt.ylabel('# of skills')\n",
    "plt.xlabel('# of people who own that skill (multiplicity)')\n",
    "plt.show()\n",
    "skills_series = list(set(skills_series))"
   ]
  },
  {
   "cell_type": "code",
   "execution_count": 19,
   "metadata": {
    "collapsed": false
   },
   "outputs": [
    {
     "name": "stdout",
     "output_type": "stream",
     "text": [
      "329 209\n"
     ]
    }
   ],
   "source": [
    "print(len(skills_series),len(filtered_tasks_skills))"
   ]
  },
  {
   "cell_type": "code",
   "execution_count": 20,
   "metadata": {
    "collapsed": false
   },
   "outputs": [],
   "source": [
    "## P: people x skills matrix\n",
    "temp = []\n",
    "for ps in people[0]:\n",
    "    temp += [[ x in ps for  x in skills_series]]\n",
    "P = temp"
   ]
  },
  {
   "cell_type": "code",
   "execution_count": 111,
   "metadata": {
    "collapsed": false
   },
   "outputs": [],
   "source": [
    "## J: tasks x skills matrix\n",
    "temp = []\n",
    "for ts in filtered_tasks[0]:\n",
    "    temp += [[ x in ts for  x in skills_series]]\n",
    "J = temp"
   ]
  },
  {
   "cell_type": "markdown",
   "metadata": {},
   "source": [
    "## VI. Randomly choose 100 tasks from the pool and filter people again based on the tasks"
   ]
  },
  {
   "cell_type": "code",
   "execution_count": 117,
   "metadata": {
    "collapsed": false
   },
   "outputs": [
    {
     "data": {
      "text/plain": [
       "[5]"
      ]
     },
     "execution_count": 117,
     "metadata": {},
     "output_type": "execute_result"
    }
   ],
   "source": [
    "temp = np.random.choice(len(J), 100,replace=False)\n",
    "J100 = [J[x] for x in temp]"
   ]
  },
  {
   "cell_type": "code",
   "execution_count": 118,
   "metadata": {
    "collapsed": false
   },
   "outputs": [
    {
     "data": {
      "text/plain": [
       "[5]"
      ]
     },
     "execution_count": 118,
     "metadata": {},
     "output_type": "execute_result"
    }
   ],
   "source": [
    "Jskills = J100[0][:] # required skills for valid cover \n",
    "for a in J100:\n",
    "    for i in range(len(a)):\n",
    "        Jskills[i] = Jskills[i] or a[i]"
   ]
  },
  {
   "cell_type": "code",
   "execution_count": 119,
   "metadata": {
    "collapsed": false
   },
   "outputs": [
    {
     "data": {
      "text/plain": [
       "329"
      ]
     },
     "execution_count": 119,
     "metadata": {},
     "output_type": "execute_result"
    }
   ],
   "source": [
    "len(Jskills)"
   ]
  },
  {
   "cell_type": "code",
   "execution_count": 120,
   "metadata": {
    "collapsed": false
   },
   "outputs": [
    {
     "data": {
      "text/plain": [
       "109"
      ]
     },
     "execution_count": 120,
     "metadata": {},
     "output_type": "execute_result"
    }
   ],
   "source": [
    "# select from all people a group that can form a valid cover \n",
    "chosen =  [0]*len(P) \n",
    "for i in range(len(Jskills)):\n",
    "    if Jskills[i]: # if skill i needed\n",
    "        #rd choose one in people who know skill i  \n",
    "        for j in range(len(chosen)): # enumerate people\n",
    "            if P[j][i] == 1 and chosen[j] == 0  :  # if people not chosen and own the skill \n",
    "                chosen[j] = 1 \n",
    "                break\n",
    "sum(chosen)"
   ]
  },
  {
   "cell_type": "code",
   "execution_count": 121,
   "metadata": {
    "collapsed": false
   },
   "outputs": [
    {
     "name": "stdout",
     "output_type": "stream",
     "text": [
      "109\n",
      "400\n"
     ]
    }
   ],
   "source": [
    "# randomly add some people to make it 400\n",
    "print(sum(chosen))\n",
    "while sum(chosen)<400:\n",
    "    temp = np.random.choice(len(people))\n",
    "    chosen[temp] = 1\n",
    "print(sum(chosen))"
   ]
  },
  {
   "cell_type": "code",
   "execution_count": 122,
   "metadata": {
    "collapsed": false
   },
   "outputs": [
    {
     "data": {
      "text/plain": [
       "400"
      ]
     },
     "execution_count": 122,
     "metadata": {},
     "output_type": "execute_result"
    }
   ],
   "source": [
    "P_chosen = [P[i] for i in range(len(P)) if chosen[i] ==1 ]\n",
    "len(P_chosen)"
   ]
  },
  {
   "cell_type": "code",
   "execution_count": 137,
   "metadata": {
    "collapsed": true
   },
   "outputs": [],
   "source": [
    "# save the 100 tasks and 400 people to 'outfile'\n",
    "with open('outfile', 'wb') as fp:\n",
    "    pickle.dump([J100,P_chosen], fp)"
   ]
  }
 ],
 "metadata": {
  "kernelspec": {
   "display_name": "Python [default]",
   "language": "python",
   "name": "python3"
  },
  "language_info": {
   "codemirror_mode": {
    "name": "ipython",
    "version": 3
   },
   "file_extension": ".py",
   "mimetype": "text/x-python",
   "name": "python",
   "nbconvert_exporter": "python",
   "pygments_lexer": "ipython3",
   "version": "3.5.2"
  }
 },
 "nbformat": 4,
 "nbformat_minor": 2
}
