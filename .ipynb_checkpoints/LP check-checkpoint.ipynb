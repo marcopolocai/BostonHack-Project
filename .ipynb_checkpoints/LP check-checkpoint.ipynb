{
 "cells": [
  {
   "cell_type": "markdown",
   "metadata": {},
   "source": [
    "# Offline Balance Load Team Assigment  \n",
    "## Implementation of Randomized LP-relaxation \n",
    "## proposed by Aris"
   ]
  },
  {
   "cell_type": "markdown",
   "metadata": {},
   "source": [
    "__________________"
   ]
  },
  {
   "cell_type": "markdown",
   "metadata": {},
   "source": [
    "### I. Helper Functions"
   ]
  },
  {
   "cell_type": "code",
   "execution_count": 201,
   "metadata": {
    "collapsed": true
   },
   "outputs": [],
   "source": [
    "import numpy as np \n",
    "from pulp import *\n",
    "import random as rd\n",
    "\n",
    "# cross products\n",
    "def cross(a,b):\n",
    "    p = 0\n",
    "    for (x,y) in zip(a,b):\n",
    "        p+=(x*y)\n",
    "    return p\n",
    "\n",
    "# show outputs\n",
    "def output(arr):\n",
    "    new = np.zeros((len(arr),len(arr[0])))\n",
    "    for i in range(len(new)):\n",
    "        for j in range(len(new[0])):\n",
    "            new[i][j] = value(arr[i][j])\n",
    "    return new\n",
    "\n",
    "# print constraints\n",
    "def printCons(prob):\n",
    "    for a in prob.constraints.values():\n",
    "        print(a)"
   ]
  },
  {
   "cell_type": "markdown",
   "metadata": {},
   "source": [
    "### II. Lp-solving stage"
   ]
  },
  {
   "cell_type": "code",
   "execution_count": 202,
   "metadata": {
    "collapsed": false
   },
   "outputs": [],
   "source": [
    "# input \n",
    "J = np.array([[1,0,0],[1,1,1],[0,1,0]]) # 3 tasks\n",
    "P = np.array([[1,1,0],[0,0,1],[0,1,0]]) # 2 people \n",
    "X = [[0 for x in range(len(J))] for y in range(len(P))]  # assignment matrix\n",
    "\n",
    "# declare your variables\n",
    "L = LpVariable(\"L\", 0, 1000)\n",
    "for i in range(len(X)):\n",
    "    for j in range(len(X[1])):\n",
    "        X[i][j] = LpVariable(\"x\"+str(i)+str(j), 0, 1) # 0=<x<=1"
   ]
  },
  {
   "cell_type": "code",
   "execution_count": 203,
   "metadata": {
    "collapsed": true
   },
   "outputs": [],
   "source": [
    "# defines the problem\n",
    "prob = LpProblem(\"problem\", LpMinimize)\n",
    "\n",
    "# defines the objective function to minimize\n",
    "prob += L"
   ]
  },
  {
   "cell_type": "code",
   "execution_count": 204,
   "metadata": {
    "collapsed": false
   },
   "outputs": [
    {
     "name": "stdout",
     "output_type": "stream",
     "text": [
      "-L + x00 + x01 + x02 <= 0\n",
      "-L + x10 + x11 + x12 <= 0\n",
      "-L + x20 + x21 + x22 <= 0\n",
      "x00 >= 1\n",
      "x00 + x20 >= 0\n",
      "x10 >= 0\n",
      "x01 >= 1\n",
      "x01 + x21 >= 1\n",
      "x11 >= 1\n",
      "x02 >= 0\n",
      "x02 + x22 >= 1\n",
      "x12 >= 0\n"
     ]
    }
   ],
   "source": [
    "# defines the constraints\n",
    "\n",
    "for i in range(len(X)):  # all people's loads subject to a uppper bound \n",
    "    prob += sum(X[i])<=L\n",
    "    \n",
    "for i in range(len(J)): # all skills in all tasks must be covered \n",
    "    for j in range(len(J[0])):\n",
    "        prob += cross([a[i] for a in X],[a[j] for a in P]) >= J[i][j]\n",
    "printCons(prob)"
   ]
  },
  {
   "cell_type": "markdown",
   "metadata": {},
   "source": [
    "______"
   ]
  },
  {
   "cell_type": "markdown",
   "metadata": {},
   "source": [
    "#### Additional constraint!!!"
   ]
  },
  {
   "cell_type": "code",
   "execution_count": 212,
   "metadata": {
    "collapsed": false
   },
   "outputs": [
    {
     "name": "stdout",
     "output_type": "stream",
     "text": [
      "-L + x00 + x01 + x02 <= 0\n",
      "-L + x10 + x11 + x12 <= 0\n",
      "-L + x20 + x21 + x22 <= 0\n",
      "x00 >= 1\n",
      "x00 + x20 >= 0\n",
      "x10 >= 0\n",
      "x01 >= 1\n",
      "x01 + x21 >= 1\n",
      "x11 >= 1\n",
      "x02 >= 0\n",
      "x02 + x22 >= 1\n",
      "x12 >= 0\n",
      "x21 = 1\n",
      "x20 + x21 + x22 = 1\n"
     ]
    }
   ],
   "source": [
    "# add additional constrain to lp problem: \n",
    "# person p can be only assigned to team j\n",
    "def prerequsite(p,j,prob,X): \n",
    "    prob += X[p][j] == 1\n",
    "    prob += sum(X[p]) == 1\n",
    "\n",
    "# test \n",
    "prerequsite(2,1,prob,X)\n",
    "printCons(prob)"
   ]
  },
  {
   "cell_type": "markdown",
   "metadata": {},
   "source": [
    "______________"
   ]
  },
  {
   "cell_type": "code",
   "execution_count": 213,
   "metadata": {
    "collapsed": false
   },
   "outputs": [
    {
     "data": {
      "text/plain": [
       "'Optimal'"
      ]
     },
     "execution_count": 213,
     "metadata": {},
     "output_type": "execute_result"
    }
   ],
   "source": [
    " # solve the problem\n",
    "status = prob.solve(GLPK(msg=0))\n",
    "LpStatus[status]"
   ]
  },
  {
   "cell_type": "code",
   "execution_count": 214,
   "metadata": {
    "collapsed": false
   },
   "outputs": [
    {
     "name": "stdout",
     "output_type": "stream",
     "text": [
      "L: 3.0\n",
      "X:\n",
      " [[ 1.  1.  1.]\n",
      " [ 0.  1.  0.]\n",
      " [ 0.  1.  0.]]\n"
     ]
    }
   ],
   "source": [
    "# print output \n",
    "print(\"L:\",value(L))\n",
    "print(\"X:\\n\",output(X))"
   ]
  },
  {
   "cell_type": "markdown",
   "metadata": {},
   "source": [
    "### III. Randomize stage"
   ]
  },
  {
   "cell_type": "code",
   "execution_count": 91,
   "metadata": {
    "collapsed": true
   },
   "outputs": [],
   "source": [
    "X = output(X)\n",
    "R = 10\n",
    "for i in range(len(X)):\n",
    "    for j in range(len(X[0])):\n",
    "        for k in range(R):\n",
    "            if rd.uniform(0,1)<X[i][j]: # if at least one time it's chosen\n",
    "                X[i][j] = 1 \n",
    "                break\n",
    "            if k == R-1: X[i][j] = 0 # if not chosen in any round"
   ]
  },
  {
   "cell_type": "code",
   "execution_count": 94,
   "metadata": {
    "collapsed": false
   },
   "outputs": [
    {
     "name": "stdout",
     "output_type": "stream",
     "text": [
      "L: 2\n",
      "X: [[1, 0, 1], [0, 1, 1]]\n"
     ]
    }
   ],
   "source": [
    "print(\"L:\", max([sum(a) for a in X]))\n",
    "print(\"X:\", X)"
   ]
  }
 ],
 "metadata": {
  "kernelspec": {
   "display_name": "Python [default]",
   "language": "python",
   "name": "python3"
  },
  "language_info": {
   "codemirror_mode": {
    "name": "ipython",
    "version": 3
   },
   "file_extension": ".py",
   "mimetype": "text/x-python",
   "name": "python",
   "nbconvert_exporter": "python",
   "pygments_lexer": "ipython3",
   "version": "3.5.2"
  }
 },
 "nbformat": 4,
 "nbformat_minor": 2
}
